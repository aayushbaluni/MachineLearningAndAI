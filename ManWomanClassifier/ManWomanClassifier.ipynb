{
 "cells": [
  {
   "cell_type": "code",
   "execution_count": 1,
   "id": "99af2ee7",
   "metadata": {},
   "outputs": [],
   "source": [
    "import numpy as np"
   ]
  },
  {
   "cell_type": "code",
   "execution_count": 2,
   "id": "6766bb2c",
   "metadata": {},
   "outputs": [],
   "source": [
    "import pandas as pd"
   ]
  },
  {
   "cell_type": "code",
   "execution_count": 3,
   "id": "fc8342df",
   "metadata": {},
   "outputs": [],
   "source": [
    "import os"
   ]
  },
  {
   "cell_type": "code",
   "execution_count": 4,
   "id": "5f06142e",
   "metadata": {},
   "outputs": [],
   "source": [
    "dir=r'C:\\Users\\abalu\\Desktop\\data'"
   ]
  },
  {
   "cell_type": "code",
   "execution_count": 5,
   "id": "a0364dd1",
   "metadata": {},
   "outputs": [],
   "source": [
    "from tensorflow.keras.preprocessing.image import ImageDataGenerator"
   ]
  },
  {
   "cell_type": "code",
   "execution_count": 6,
   "id": "23704d55",
   "metadata": {},
   "outputs": [],
   "source": [
    "train_gen=ImageDataGenerator(\n",
    "    rescale=1./255,\n",
    "    horizontal_flip=True,\n",
    "    width_shift_range=0.2,\n",
    "    height_shift_range=0.2,\n",
    "    shear_range= 0.2,\n",
    "    rotation_range=0.2,\n",
    "    zoom_range=0.2\n",
    ")"
   ]
  },
  {
   "cell_type": "code",
   "execution_count": 7,
   "id": "adcad7a2",
   "metadata": {},
   "outputs": [
    {
     "name": "stdout",
     "output_type": "stream",
     "text": [
      "Found 3309 images belonging to 2 classes.\n"
     ]
    }
   ],
   "source": [
    "train_data=train_gen.flow_from_directory(\n",
    "dir,\n",
    "target_size=(150,150),\n",
    "batch_size=32,\n",
    "class_mode='binary'\n",
    ")"
   ]
  },
  {
   "cell_type": "code",
   "execution_count": 8,
   "id": "06dee3d5",
   "metadata": {},
   "outputs": [],
   "source": [
    "import tensorflow as tf"
   ]
  },
  {
   "cell_type": "code",
   "execution_count": 9,
   "id": "e11fa9f2",
   "metadata": {},
   "outputs": [],
   "source": [
    "import tensorflow.keras as kt"
   ]
  },
  {
   "cell_type": "code",
   "execution_count": 10,
   "id": "70e80aab",
   "metadata": {},
   "outputs": [],
   "source": [
    "model=kt.models.Sequential()"
   ]
  },
  {
   "cell_type": "code",
   "execution_count": 11,
   "id": "8811435d",
   "metadata": {},
   "outputs": [],
   "source": [
    "model.add(kt.layers.Conv2D(32,(3,3),input_shape=(150,150,3),activation='relu'))"
   ]
  },
  {
   "cell_type": "code",
   "execution_count": 12,
   "id": "7e61803e",
   "metadata": {},
   "outputs": [],
   "source": [
    "model.add(kt.layers.MaxPooling2D((2,2)))"
   ]
  },
  {
   "cell_type": "code",
   "execution_count": 13,
   "id": "7fd293e5",
   "metadata": {},
   "outputs": [],
   "source": [
    "model.add(kt.layers.Conv2D(64,(3,3),activation='relu'))"
   ]
  },
  {
   "cell_type": "code",
   "execution_count": 14,
   "id": "ec61c8cd",
   "metadata": {},
   "outputs": [],
   "source": [
    "model.add(kt.layers.MaxPooling2D((2,2)))"
   ]
  },
  {
   "cell_type": "code",
   "execution_count": 15,
   "id": "6dbb366b",
   "metadata": {},
   "outputs": [],
   "source": [
    "model.add(kt.layers.Conv2D(128,(3,3),activation='relu'))"
   ]
  },
  {
   "cell_type": "code",
   "execution_count": 16,
   "id": "eb15c521",
   "metadata": {},
   "outputs": [],
   "source": [
    "model.add(kt.layers.MaxPooling2D((2,2)))"
   ]
  },
  {
   "cell_type": "code",
   "execution_count": 17,
   "id": "d08151e5",
   "metadata": {},
   "outputs": [],
   "source": [
    "model.add(kt.layers.Conv2D(128,(3,3),activation='relu'))"
   ]
  },
  {
   "cell_type": "code",
   "execution_count": 18,
   "id": "d1569f40",
   "metadata": {},
   "outputs": [],
   "source": [
    "model.add(kt.layers.MaxPooling2D((2,2)))"
   ]
  },
  {
   "cell_type": "code",
   "execution_count": 19,
   "id": "7b28bf13",
   "metadata": {},
   "outputs": [],
   "source": [
    "model.add(kt.layers.Flatten())"
   ]
  },
  {
   "cell_type": "code",
   "execution_count": 20,
   "id": "f9395dd7",
   "metadata": {},
   "outputs": [],
   "source": [
    "model.add(kt.layers.Dropout(0.5))"
   ]
  },
  {
   "cell_type": "code",
   "execution_count": 21,
   "id": "a5c904b5",
   "metadata": {},
   "outputs": [],
   "source": [
    "model.add(kt.layers.Dense(512,activation='relu'))"
   ]
  },
  {
   "cell_type": "code",
   "execution_count": 22,
   "id": "fa3a3e46",
   "metadata": {},
   "outputs": [],
   "source": [
    "model.add(kt.layers.Dense(1,activation='sigmoid'))"
   ]
  },
  {
   "cell_type": "markdown",
   "id": "f6a0b91a",
   "metadata": {},
   "source": []
  },
  {
   "cell_type": "code",
   "execution_count": 23,
   "id": "11663f92",
   "metadata": {},
   "outputs": [
    {
     "name": "stdout",
     "output_type": "stream",
     "text": [
      "Model: \"sequential\"\n",
      "_________________________________________________________________\n",
      " Layer (type)                Output Shape              Param #   \n",
      "=================================================================\n",
      " conv2d (Conv2D)             (None, 148, 148, 32)      896       \n",
      "                                                                 \n",
      " max_pooling2d (MaxPooling2D  (None, 74, 74, 32)       0         \n",
      " )                                                               \n",
      "                                                                 \n",
      " conv2d_1 (Conv2D)           (None, 72, 72, 64)        18496     \n",
      "                                                                 \n",
      " max_pooling2d_1 (MaxPooling  (None, 36, 36, 64)       0         \n",
      " 2D)                                                             \n",
      "                                                                 \n",
      " conv2d_2 (Conv2D)           (None, 34, 34, 128)       73856     \n",
      "                                                                 \n",
      " max_pooling2d_2 (MaxPooling  (None, 17, 17, 128)      0         \n",
      " 2D)                                                             \n",
      "                                                                 \n",
      " conv2d_3 (Conv2D)           (None, 15, 15, 128)       147584    \n",
      "                                                                 \n",
      " max_pooling2d_3 (MaxPooling  (None, 7, 7, 128)        0         \n",
      " 2D)                                                             \n",
      "                                                                 \n",
      " flatten (Flatten)           (None, 6272)              0         \n",
      "                                                                 \n",
      " dropout (Dropout)           (None, 6272)              0         \n",
      "                                                                 \n",
      " dense (Dense)               (None, 512)               3211776   \n",
      "                                                                 \n",
      " dense_1 (Dense)             (None, 1)                 513       \n",
      "                                                                 \n",
      "=================================================================\n",
      "Total params: 3,453,121\n",
      "Trainable params: 3,453,121\n",
      "Non-trainable params: 0\n",
      "_________________________________________________________________\n"
     ]
    }
   ],
   "source": [
    "model.summary()"
   ]
  },
  {
   "cell_type": "code",
   "execution_count": 24,
   "id": "002126ec",
   "metadata": {},
   "outputs": [],
   "source": [
    "model.compile(loss='binary_crossentropy',optimizer='adam',metrics=['accuracy'])"
   ]
  },
  {
   "cell_type": "code",
   "execution_count": 25,
   "id": "f6a09f83",
   "metadata": {},
   "outputs": [],
   "source": [
    "from sklearn.model_selection import train_test_split"
   ]
  },
  {
   "cell_type": "code",
   "execution_count": 26,
   "id": "345b0620",
   "metadata": {},
   "outputs": [
    {
     "data": {
      "text/plain": [
       "<keras.preprocessing.image.DirectoryIterator at 0x1ade307fc70>"
      ]
     },
     "execution_count": 26,
     "metadata": {},
     "output_type": "execute_result"
    }
   ],
   "source": [
    "train_data"
   ]
  },
  {
   "cell_type": "raw",
   "id": "348f2fb7",
   "metadata": {},
   "source": []
  },
  {
   "cell_type": "code",
   "execution_count": 27,
   "id": "740d4dc0",
   "metadata": {},
   "outputs": [
    {
     "name": "stderr",
     "output_type": "stream",
     "text": [
      "C:\\Users\\abalu\\AppData\\Local\\Temp\\ipykernel_21064\\2770445033.py:1: UserWarning: `Model.fit_generator` is deprecated and will be removed in a future version. Please use `Model.fit`, which supports generators.\n",
      "  model.fit_generator(train_data,steps_per_epoch=100,epochs=25)\n"
     ]
    },
    {
     "name": "stdout",
     "output_type": "stream",
     "text": [
      "Epoch 1/25\n",
      "100/100 [==============================] - 70s 695ms/step - loss: 0.6746 - accuracy: 0.5753\n",
      "Epoch 2/25\n",
      "100/100 [==============================] - 70s 703ms/step - loss: 0.6577 - accuracy: 0.6165\n",
      "Epoch 3/25\n",
      "100/100 [==============================] - 71s 703ms/step - loss: 0.6454 - accuracy: 0.6334\n",
      "Epoch 4/25\n",
      "100/100 [==============================] - 72s 708ms/step - loss: 0.6317 - accuracy: 0.6495\n",
      "Epoch 5/25\n",
      "100/100 [==============================] - 71s 708ms/step - loss: 0.6347 - accuracy: 0.6504\n",
      "Epoch 6/25\n",
      "100/100 [==============================] - 71s 711ms/step - loss: 0.6337 - accuracy: 0.6419\n",
      "Epoch 7/25\n",
      "100/100 [==============================] - 71s 711ms/step - loss: 0.6323 - accuracy: 0.6394\n",
      "Epoch 8/25\n",
      "100/100 [==============================] - 71s 708ms/step - loss: 0.6338 - accuracy: 0.6454\n",
      "Epoch 9/25\n",
      "100/100 [==============================] - 70s 701ms/step - loss: 0.6305 - accuracy: 0.6558\n",
      "Epoch 10/25\n",
      "100/100 [==============================] - 72s 716ms/step - loss: 0.6207 - accuracy: 0.6630\n",
      "Epoch 11/25\n",
      "100/100 [==============================] - 72s 724ms/step - loss: 0.6301 - accuracy: 0.6555\n",
      "Epoch 12/25\n",
      "100/100 [==============================] - 72s 713ms/step - loss: 0.6073 - accuracy: 0.6768\n",
      "Epoch 13/25\n",
      "100/100 [==============================] - 71s 704ms/step - loss: 0.5941 - accuracy: 0.6900\n",
      "Epoch 14/25\n",
      "100/100 [==============================] - 72s 716ms/step - loss: 0.5834 - accuracy: 0.6963\n",
      "Epoch 15/25\n",
      "100/100 [==============================] - 73s 730ms/step - loss: 0.5823 - accuracy: 0.6981\n",
      "Epoch 16/25\n",
      "100/100 [==============================] - 72s 721ms/step - loss: 0.5588 - accuracy: 0.7105\n",
      "Epoch 17/25\n",
      "100/100 [==============================] - 72s 721ms/step - loss: 0.5417 - accuracy: 0.7193\n",
      "Epoch 18/25\n",
      "100/100 [==============================] - 71s 714ms/step - loss: 0.5428 - accuracy: 0.7224\n",
      "Epoch 19/25\n",
      "100/100 [==============================] - 73s 725ms/step - loss: 0.5326 - accuracy: 0.7328\n",
      "Epoch 20/25\n",
      "100/100 [==============================] - 72s 715ms/step - loss: 0.5315 - accuracy: 0.7347\n",
      "Epoch 21/25\n",
      "100/100 [==============================] - 71s 707ms/step - loss: 0.5116 - accuracy: 0.7532\n",
      "Epoch 22/25\n",
      "100/100 [==============================] - 72s 723ms/step - loss: 0.5035 - accuracy: 0.7457\n",
      "Epoch 23/25\n",
      "100/100 [==============================] - 73s 728ms/step - loss: 0.4903 - accuracy: 0.7583\n",
      "Epoch 24/25\n",
      "100/100 [==============================] - 72s 721ms/step - loss: 0.5048 - accuracy: 0.7469\n",
      "Epoch 25/25\n",
      "100/100 [==============================] - 73s 731ms/step - loss: 0.4923 - accuracy: 0.7581\n"
     ]
    },
    {
     "data": {
      "text/plain": [
       "<keras.callbacks.History at 0x1adec0cabe0>"
      ]
     },
     "execution_count": 27,
     "metadata": {},
     "output_type": "execute_result"
    }
   ],
   "source": [
    "model.fit_generator(train_data,steps_per_epoch=100,epochs=25)"
   ]
  },
  {
   "cell_type": "code",
   "execution_count": 28,
   "id": "a496aa4c",
   "metadata": {},
   "outputs": [],
   "source": [
    "import pickle"
   ]
  },
  {
   "cell_type": "code",
   "execution_count": 30,
   "id": "8d27b4dc",
   "metadata": {},
   "outputs": [
    {
     "name": "stderr",
     "output_type": "stream",
     "text": [
      "WARNING:absl:Found untraced functions such as _jit_compiled_convolution_op, _jit_compiled_convolution_op, _jit_compiled_convolution_op, _jit_compiled_convolution_op while saving (showing 4 of 4). These functions will not be directly callable after loading.\n"
     ]
    },
    {
     "name": "stdout",
     "output_type": "stream",
     "text": [
      "INFO:tensorflow:Assets written to: ram://5c5dac71-70b0-407b-ae7f-c14ab4505d0c/assets\n"
     ]
    },
    {
     "name": "stderr",
     "output_type": "stream",
     "text": [
      "INFO:tensorflow:Assets written to: ram://5c5dac71-70b0-407b-ae7f-c14ab4505d0c/assets\n"
     ]
    }
   ],
   "source": [
    "pickle.dump(model,open('modelman.pkl','wb'))"
   ]
  },
  {
   "cell_type": "code",
   "execution_count": 31,
   "id": "e74b658d",
   "metadata": {},
   "outputs": [
    {
     "name": "stdout",
     "output_type": "stream",
     "text": [
      "104/104 [==============================] - 56s 532ms/step\n"
     ]
    }
   ],
   "source": [
    "y=model.predict(train_data)"
   ]
  },
  {
   "cell_type": "code",
   "execution_count": 36,
   "id": "6ea84e28",
   "metadata": {},
   "outputs": [],
   "source": [
    "y=np.round(y)"
   ]
  },
  {
   "cell_type": "code",
   "execution_count": 39,
   "id": "f5131f6c",
   "metadata": {},
   "outputs": [],
   "source": [
    "y=np.argmax(y,axis=1)"
   ]
  },
  {
   "cell_type": "code",
   "execution_count": 40,
   "id": "068fd470",
   "metadata": {},
   "outputs": [
    {
     "data": {
      "text/plain": [
       "array([0, 0, 0, ..., 0, 0, 0], dtype=int64)"
      ]
     },
     "execution_count": 40,
     "metadata": {},
     "output_type": "execute_result"
    }
   ],
   "source": [
    "y"
   ]
  },
  {
   "cell_type": "code",
   "execution_count": 44,
   "id": "d6429bdc",
   "metadata": {},
   "outputs": [
    {
     "name": "stdout",
     "output_type": "stream",
     "text": [
      "104/104 [==============================] - 54s 521ms/step\n"
     ]
    }
   ],
   "source": [
    "y_pred=model.predict(train_data)"
   ]
  },
  {
   "cell_type": "code",
   "execution_count": 45,
   "id": "2181ffe3",
   "metadata": {},
   "outputs": [
    {
     "data": {
      "text/plain": [
       "array([[0.57438093],\n",
       "       [0.8379696 ],\n",
       "       [0.83180934],\n",
       "       ...,\n",
       "       [0.492071  ],\n",
       "       [0.4697778 ],\n",
       "       [0.84977025]], dtype=float32)"
      ]
     },
     "execution_count": 45,
     "metadata": {},
     "output_type": "execute_result"
    }
   ],
   "source": [
    "y_pred"
   ]
  },
  {
   "cell_type": "code",
   "execution_count": 46,
   "id": "7c991a98",
   "metadata": {},
   "outputs": [],
   "source": [
    "y_pred=np.round(y_pred,3)"
   ]
  },
  {
   "cell_type": "code",
   "execution_count": 47,
   "id": "a3e0b632",
   "metadata": {},
   "outputs": [
    {
     "data": {
      "text/plain": [
       "array([[0.574],\n",
       "       [0.838],\n",
       "       [0.832],\n",
       "       ...,\n",
       "       [0.492],\n",
       "       [0.47 ],\n",
       "       [0.85 ]], dtype=float32)"
      ]
     },
     "execution_count": 47,
     "metadata": {},
     "output_type": "execute_result"
    }
   ],
   "source": [
    "y_pred"
   ]
  },
  {
   "cell_type": "code",
   "execution_count": 48,
   "id": "b0fc9f5c",
   "metadata": {},
   "outputs": [],
   "source": [
    "y_pred=np.round(y_pred,1)"
   ]
  },
  {
   "cell_type": "code",
   "execution_count": 49,
   "id": "a45b8fe7",
   "metadata": {},
   "outputs": [
    {
     "data": {
      "text/plain": [
       "array([[0.6],\n",
       "       [0.8],\n",
       "       [0.8],\n",
       "       ...,\n",
       "       [0.5],\n",
       "       [0.5],\n",
       "       [0.8]], dtype=float32)"
      ]
     },
     "execution_count": 49,
     "metadata": {},
     "output_type": "execute_result"
    }
   ],
   "source": [
    "y_pred"
   ]
  },
  {
   "cell_type": "code",
   "execution_count": 50,
   "id": "606a5792",
   "metadata": {},
   "outputs": [],
   "source": [
    "y_pred=np.round(y_pred)"
   ]
  },
  {
   "cell_type": "code",
   "execution_count": 52,
   "id": "6a02e8b3",
   "metadata": {},
   "outputs": [
    {
     "data": {
      "text/plain": [
       "array([[1],\n",
       "       [1],\n",
       "       [1],\n",
       "       ...,\n",
       "       [0],\n",
       "       [0],\n",
       "       [1]])"
      ]
     },
     "execution_count": 52,
     "metadata": {},
     "output_type": "execute_result"
    }
   ],
   "source": [
    "y_pred.astype(int)"
   ]
  },
  {
   "cell_type": "code",
   "execution_count": 53,
   "id": "a22c562d",
   "metadata": {},
   "outputs": [
    {
     "name": "stderr",
     "output_type": "stream",
     "text": [
      "WARNING:absl:Found untraced functions such as _jit_compiled_convolution_op, _jit_compiled_convolution_op, _jit_compiled_convolution_op, _jit_compiled_convolution_op while saving (showing 4 of 4). These functions will not be directly callable after loading.\n"
     ]
    },
    {
     "name": "stdout",
     "output_type": "stream",
     "text": [
      "INFO:tensorflow:Assets written to: ram://e1e1addb-ac64-414b-8146-40ec0e5b2a90/assets\n"
     ]
    },
    {
     "name": "stderr",
     "output_type": "stream",
     "text": [
      "INFO:tensorflow:Assets written to: ram://e1e1addb-ac64-414b-8146-40ec0e5b2a90/assets\n"
     ]
    }
   ],
   "source": [
    "pickle.dump(model,open('model.pkl','wb'))"
   ]
  },
  {
   "cell_type": "code",
   "execution_count": null,
   "id": "6d0584c4",
   "metadata": {},
   "outputs": [],
   "source": []
  }
 ],
 "metadata": {
  "kernelspec": {
   "display_name": "Python 3 (ipykernel)",
   "language": "python",
   "name": "python3"
  },
  "language_info": {
   "codemirror_mode": {
    "name": "ipython",
    "version": 3
   },
   "file_extension": ".py",
   "mimetype": "text/x-python",
   "name": "python",
   "nbconvert_exporter": "python",
   "pygments_lexer": "ipython3",
   "version": "3.9.12"
  }
 },
 "nbformat": 4,
 "nbformat_minor": 5
}
